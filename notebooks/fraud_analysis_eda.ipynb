{
 "cells": [
  {
   "cell_type": "markdown",
   "metadata": {},
   "source": [
    "# Разведочный анализ данных о мошенничестве в финансовых транзакциях\n",
    "\n",
    "**Автор:** Студент магистратуры ИИ ИТМО  \n",
    "**Дата:** Январь 2025  \n",
    "**Цель:** Комплексный анализ данных для выявления паттернов мошенничества и формулирования бизнес-гипотез"
   ]
  },
  {
   "cell_type": "markdown",
   "metadata": {},
   "source": [
    "## 1. Импорт библиотек и загрузка данных"
   ]
  },
  {
   "cell_type": "code",
   "execution_count": null,
   "metadata": {},
   "outputs": [],
   "source": [
    "import pandas as pd\n",
    "import numpy as np\n",
    "import matplotlib.pyplot as plt\n",
    "import seaborn as sns\n",
    "from datetime import datetime\n",
    "import warnings\n",
    "warnings.filterwarnings('ignore')\n",
    "\n",
    "# Настройка стиля графиков\n",
    "plt.style.use('default')\n",
    "sns.set_palette(\"husl\")\n",
    "plt.rcParams['figure.figsize'] = (12, 8)\n",
    "plt.rcParams['font.size'] = 12\n",
    "\n",
    "print(\"Библиотеки загружены успешно!\")"
   ]
  },
  {
   "cell_type": "code",
   "execution_count": null,
   "metadata": {},
   "outputs": [],
   "source": [
    "# Загрузка данных\n",
    "df = pd.read_parquet('../data/transaction_fraud_data.parquet')\n",
    "exchange_df = pd.read_parquet('../data/historical_currency_exchange.parquet')\n",
    "\n",
    "print(f\"Загружено транзакций: {len(df):,}\")\n",
    "print(f\"Загружено курсов валют: {len(exchange_df):,}\")\n",
    "print(f\"Период данных: {df['timestamp'].min()} - {df['timestamp'].max()}\")"
   ]
  },
  {
   "cell_type": "markdown",
   "metadata": {},
   "source": [
    "## 2. Первичный обзор данных"
   ]
  },
  {
   "cell_type": "code",
   "execution_count": null,
   "metadata": {},
   "outputs": [],
   "source": [
    "# Общая информация о датасете\n",
    "print(\"=== ОБЩАЯ ИНФОРМАЦИЯ ===\")\n",
    "print(f\"Размер датасета: {df.shape}\")\n",
    "print(f\"Уникальных клиентов: {df['customer_id'].nunique():,}\")\n",
    "print(f\"Период: {(df['timestamp'].max() - df['timestamp'].min()).days} дней\")\n",
    "\n",
    "print(\"\\n=== РАСПРЕДЕЛЕНИЕ МОШЕННИЧЕСТВА ===\")\n",
    "fraud_stats = df['is_fraud'].value_counts()\n",
    "fraud_rate = df['is_fraud'].mean()\n",
    "print(f\"Легитимные транзакции: {fraud_stats[False]:,} ({(1-fraud_rate)*100:.1f}%)\")\n",
    "print(f\"Мошеннические транзакции: {fraud_stats[True]:,} ({fraud_rate*100:.1f}%)\")\n",
    "\n",
    "print(\"\\n=== ВАЛЮТЫ ===\")\n",
    "print(df['currency'].value_counts())"
   ]
  },
  {
   "cell_type": "markdown",
   "metadata": {},
   "source": [
    "## 3. Конвертация в USD и анализ сумм"
   ]
  },
  {
   "cell_type": "code",
   "execution_count": null,
   "metadata": {},
   "outputs": [],
   "source": [
    "# Подготовка данных - конвертация в USD\n",
    "df['timestamp'] = pd.to_datetime(df['timestamp'])\n",
    "df['date'] = df['timestamp'].dt.date\n",
    "exchange_df['date'] = pd.to_datetime(exchange_df['date']).dt.date\n",
    "\n",
    "# Соединение с курсами валют\n",
    "merged_df = df.merge(exchange_df, on='date', how='left')\n",
    "\n",
    "def convert_to_usd(row):\n",
    "    currency = row['currency']\n",
    "    amount = row['amount']\n",
    "    \n",
    "    if currency == 'USD':\n",
    "        return amount\n",
    "    elif currency in ['AUD', 'BRL', 'CAD', 'EUR', 'GBP', 'JPY', 'MXN', 'NGN', 'RUB', 'SGD']:\n",
    "        exchange_rate = row[currency]\n",
    "        if pd.notna(exchange_rate) and exchange_rate != 0:\n",
    "            return amount / exchange_rate\n",
    "    return None\n",
    "\n",
    "merged_df['amount_usd'] = merged_df.apply(convert_to_usd, axis=1)\n",
    "df_usd = merged_df.dropna(subset=['amount_usd'])\n",
    "\n",
    "print(f\"Успешно конвертировано транзакций: {len(df_usd):,}\")"
   ]
  },
  {
   "cell_type": "code",
   "execution_count": null,
   "metadata": {},
   "outputs": [],
   "source": [
    "# Анализ сумм транзакций\n",
    "fraud_amounts = df_usd[df_usd['is_fraud'] == True]['amount_usd']\n",
    "legit_amounts = df_usd[df_usd['is_fraud'] == False]['amount_usd']\n",
    "\n",
    "print(\"=== СТАТИСТИКА СУММ ТРАНЗАКЦИЙ (USD) ===\")\n",
    "print(\"\\nМошеннические операции:\")\n",
    "print(f\"Среднее: ${fraud_amounts.mean():.2f}\")\n",
    "print(f\"Медиана: ${fraud_amounts.median():.2f}\")\n",
    "print(f\"Стд. отклонение: ${fraud_amounts.std():.2f}\")\n",
    "\n",
    "print(\"\\nЛегитимные операции:\")\n",
    "print(f\"Среднее: ${legit_amounts.mean():.2f}\")\n",
    "print(f\"Медиана: ${legit_amounts.median():.2f}\")\n",
    "print(f\"Стд. отклонение: ${legit_amounts.std():.2f}\")\n",
    "\n",
    "print(f\"\\n📊 Мошеннические операции в среднем в {fraud_amounts.mean()/legit_amounts.mean():.1f}x раз больше!\")"
   ]
  },
  {
   "cell_type": "markdown",
   "metadata": {},
   "source": [
    "## 4. Географический анализ"
   ]
  },
  {
   "cell_type": "code",
   "execution_count": null,
   "metadata": {},
   "outputs": [],
   "source": [
    "# Анализ по странам\n",
    "country_stats = df_usd.groupby('country').agg({\n",
    "    'is_fraud': ['count', 'sum', 'mean'],\n",
    "    'amount_usd': ['sum', 'mean']\n",
    "}).round(3)\n",
    "\n",
    "country_stats.columns = ['total_transactions', 'fraud_transactions', 'fraud_rate', 'total_volume_usd', 'avg_amount_usd']\n",
    "country_stats = country_stats.sort_values('fraud_transactions', ascending=False)\n",
    "\n",
    "print(\"=== ТОП-10 СТРАН ПО КОЛИЧЕСТВУ МОШЕННИЧЕСКИХ ОПЕРАЦИЙ ===\")\n",
    "top_countries = country_stats.head(10)\n",
    "for i, (country, row) in enumerate(top_countries.iterrows(), 1):\n",
    "    print(f\"{i:2d}. {country:15s} - {row['fraud_transactions']:6.0f} операций ({row['fraud_rate']*100:5.1f}% от всех в стране)\")"
   ]
  },
  {
   "cell_type": "markdown",
   "metadata": {},
   "source": [
    "## 5. Временной анализ"
   ]
  },
  {
   "cell_type": "code",
   "execution_count": null,
   "metadata": {},
   "outputs": [],
   "source": [
    "# Добавление временных признаков\n",
    "df_usd['hour'] = df_usd['timestamp'].dt.hour\n",
    "df_usd['day_of_week'] = df_usd['timestamp'].dt.dayofweek\n",
    "df_usd['is_night'] = (df_usd['hour'] >= 22) | (df_usd['hour'] <= 6)\n",
    "\n",
    "# Анализ по часам\n",
    "hourly_stats = df_usd.groupby('hour')['is_fraud'].agg(['count', 'sum', 'mean'])\n",
    "hourly_stats.columns = ['total_transactions', 'fraud_transactions', 'fraud_rate']\n",
    "\n",
    "print(\"=== АНАЛИЗ ПО ВРЕМЕНИ СУТОК ===\")\n",
    "print(f\"Пиковый час мошенничества: {hourly_stats['fraud_rate'].idxmax()}:00 ({hourly_stats['fraud_rate'].max()*100:.1f}%)\")\n",
    "print(f\"Самый безопасный час: {hourly_stats['fraud_rate'].idxmin()}:00 ({hourly_stats['fraud_rate'].min()*100:.1f}%)\")\n",
    "\n",
    "night_fraud_rate = df_usd[df_usd['is_night']]['is_fraud'].mean()\n",
    "day_fraud_rate = df_usd[~df_usd['is_night']]['is_fraud'].mean()\n",
    "print(f\"\\nНочное время (22:00-06:59): {night_fraud_rate*100:.1f}%\")\n",
    "print(f\"Дневное время (07:00-21:59): {day_fraud_rate*100:.1f}%\")"
   ]
  },
  {
   "cell_type": "markdown",
   "metadata": {},
   "source": [
    "## 6. Анализ категорий продавцов"
   ]
  },
  {
   "cell_type": "code",
   "execution_count": null,
   "metadata": {},
   "outputs": [],
   "source": [
    "# Анализ категорий продавцов\n",
    "vendor_stats = df_usd.groupby('vendor_category').agg({\n",
    "    'is_fraud': ['count', 'sum', 'mean'],\n",
    "    'amount_usd': ['sum', 'mean']\n",
    "}).round(3)\n",
    "\n",
    "vendor_stats.columns = ['total_transactions', 'fraud_transactions', 'fraud_rate', 'total_volume_usd', 'avg_amount_usd']\n",
    "vendor_stats = vendor_stats.sort_values('fraud_rate', ascending=False)\n",
    "\n",
    "print(\"=== АНАЛИЗ КАТЕГОРИЙ ПРОДАВЦОВ ===\")\n",
    "for category, row in vendor_stats.iterrows():\n",
    "    print(f\"{category:12s} - {row['fraud_rate']*100:5.1f}% ({row['fraud_transactions']:6.0f} из {row['total_transactions']:7.0f})\")\n",
    "\n",
    "# Анализ высокорисковых продавцов\n",
    "high_risk_fraud_rate = df_usd[df_usd['is_high_risk_vendor']]['is_fraud'].mean()\n",
    "low_risk_fraud_rate = df_usd[~df_usd['is_high_risk_vendor']]['is_fraud'].mean()\n",
    "\n",
    "print(f\"\\n=== ВЫСОКОРИСКОВЫЕ vs НИЗКОРИСКОВЫЕ ПРОДАВЦЫ ===\")\n",
    "print(f\"Высокорисковые продавцы: {high_risk_fraud_rate*100:.1f}%\")\n",
    "print(f\"Низкорисковые продавцы: {low_risk_fraud_rate*100:.1f}%\")\n",
    "print(f\"Разница в риске: {high_risk_fraud_rate/low_risk_fraud_rate:.1f}x\")"
   ]
  },
  {
   "cell_type": "markdown",
   "metadata": {},
   "source": [
    "## 7. Поведенческий анализ клиентов"
   ]
  },
  {
   "cell_type": "code",
   "execution_count": null,
   "metadata": {},
   "outputs": [],
   "source": [
    "# Анализ активности клиентов\n",
    "def extract_unique_merchants(activity):\n",
    "    if activity and 'unique_merchants' in activity:\n",
    "        return activity['unique_merchants']\n",
    "    return None\n",
    "\n",
    "df_usd['unique_merchants'] = df_usd['last_hour_activity'].apply(extract_unique_merchants)\n",
    "customer_medians = df_usd.groupby('customer_id')['unique_merchants'].median()\n",
    "\n",
    "quantile_95 = customer_medians.quantile(0.95)\n",
    "high_activity_customers = (customer_medians > quantile_95).sum()\n",
    "\n",
    "print(f\"=== ПОВЕДЕНЧЕСКИЙ АНАЛИЗ ===\")\n",
    "print(f\"95-й квантиль по уникальным продавцам: {quantile_95:.1f}\")\n",
    "print(f\"Клиентов с подозрительной активностью: {high_activity_customers} ({high_activity_customers/len(customer_medians)*100:.1f}%)\")\n",
    "\n",
    "# Анализ мошенничества среди высокоактивных клиентов\n",
    "high_activity_customer_ids = customer_medians[customer_medians > quantile_95].index\n",
    "high_activity_fraud_rate = df_usd[\n",
    "    df_usd['customer_id'].isin(high_activity_customer_ids)\n",
    "]['is_fraud'].mean()\n",
    "\n",
    "print(f\"Уровень мошенничества среди высокоактивных клиентов: {high_activity_fraud_rate:.1%}\")"
   ]
  },
  {
   "cell_type": "markdown",
   "metadata": {},
   "source": [
    "## 8. Ключевые бизнес-метрики"
   ]
  },
  {
   "cell_type": "code",
   "execution_count": null,
   "metadata": {},
   "outputs": [],
   "source": [
    "# Расчет ключевых бизнес-метрик\n",
    "total_fraud_loss = df_usd[df_usd['is_fraud']]['amount_usd'].sum()\n",
    "total_volume = df_usd['amount_usd'].sum()\n",
    "fraud_rate = df_usd['is_fraud'].mean()\n",
    "\n",
    "print(\"=== КЛЮЧЕВЫЕ БИЗНЕС-МЕТРИКИ ===\")\n",
    "print(f\"💰 Общие потери от мошенничества: ${total_fraud_loss:,.2f}\")\n",
    "print(f\"📊 Общий оборот: ${total_volume:,.2f}\")\n",
    "print(f\"📈 Доля потерь от оборота: {total_fraud_loss/total_volume*100:.2f}%\")\n",
    "print(f\"⚠️  Уровень мошенничества: {fraud_rate*100:.1f}%\")\n",
    "\n",
    "# Потенциальная экономия\n",
    "potential_savings_50 = total_fraud_loss * 0.5\n",
    "potential_savings_80 = total_fraud_loss * 0.8\n",
    "\n",
    "print(f\"\\n💡 ПОТЕНЦИАЛЬНАЯ ЭКОНОМИЯ:\")\n",
    "print(f\"При улучшении детекции на 50%: ${potential_savings_50:,.2f}\")\n",
    "print(f\"При улучшении детекции на 80%: ${potential_savings_80:,.2f}\")\n",
    "\n",
    "# Прогноз годовых потерь\n",
    "annual_projection = total_fraud_loss / 31 * 365\n",
    "print(f\"Прогноз годовых потерь: ${annual_projection:,.2f}\")"
   ]
  },
  {
   "cell_type": "markdown",
   "metadata": {},
   "source": [
    "## 9. Выводы и рекомендации"
   ]
  },
  {
   "cell_type": "markdown",
   "metadata": {},
   "source": [
    "### Основные находки:\n",
    "\n",
    "1. **Высокий уровень мошенничества** - каждая 5-я транзакция является мошеннической\n",
    "2. **Географическая концентрация** - 4 страны (Россия, Мексика, Бразилия, Нигерия) дают большую часть мошенничества\n",
    "3. **Размер операций** - мошеннические операции в среднем в 1.9 раза крупнее легитимных\n",
    "4. **Поведенческие аномалии** - небольшая группа клиентов демонстрирует подозрительную активность\n",
    "\n",
    "### Рекомендации:\n",
    "\n",
    "1. **Географическая сегментация рисков** - дифференцированные лимиты для высокорисковых стран\n",
    "2. **Мониторинг крупных операций** - дополнительные проверки для операций выше среднего\n",
    "3. **Поведенческий скоринг** - отслеживание клиентов с аномальной активностью\n",
    "4. **Временные паттерны** - усиленный контроль в пиковые часы мошенничества\n",
    "\n",
    "### Потенциальная ценность:\n",
    "- Снижение fraud rate на 25-30%\n",
    "- Экономия до $2-3M в год\n",
    "- Улучшение клиентского опыта"
   ]
  }
 ],
 "metadata": {
  "kernelspec": {
   "display_name": "Python 3",
   "language": "python",
   "name": "python3"
  },
  "language_info": {
   "codemirror_mode": {
    "name": "ipython",
    "version": 3
   },
   "file_extension": ".py",
   "name": "python",
   "nbconvert_exporter": "python",
   "pygments_lexer": "ipython3",
   "version": "3.8.5"
  }
 },
 "nbformat": 4,
 "nbformat_minor": 4
}
